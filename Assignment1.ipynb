{
 "cells": [
  {
   "cell_type": "code",
   "execution_count": 17,
   "metadata": {},
   "outputs": [],
   "source": [
    "with open('text.txt') as input:\n",
    "    d=dict()\n",
    "    for line in input:\n",
    "        line=line.strip()\n",
    "        line=line.lower()\n",
    "        for wrd in line.split(' '):\n",
    "            if wrd in d:\n",
    "                d[wrd]=d[wrd]+1\n",
    "            else:\n",
    "                d[wrd]=1"
   ]
  },
  {
   "cell_type": "code",
   "execution_count": 18,
   "metadata": {},
   "outputs": [
    {
     "name": "stdout",
     "output_type": "stream",
     "text": [
      "big : 2\n",
      "data : 3\n",
      "is : 1\n",
      "a : 1\n",
      "field : 1\n",
      "that : 2\n",
      "treats : 1\n",
      "ways : 1\n",
      "to : 2\n",
      "analyze : 1\n",
      "systematically : 1\n",
      "extract : 1\n",
      "information : 1\n",
      "from : 1\n",
      "or : 2\n",
      "otherwise : 1\n",
      "deal : 1\n",
      "with : 2\n",
      "sets : 1\n",
      "are : 1\n",
      "too : 1\n",
      "large : 1\n",
      "complex : 1\n",
      "be : 2\n",
      "dealt : 1\n",
      "by : 1\n",
      "traditional : 1\n",
      "data-processing : 1\n",
      "application : 1\n",
      "software. : 1\n",
      "types : 1\n",
      "of : 1\n",
      "bigdata' : 1\n",
      "could : 1\n",
      "found : 1\n",
      "in : 1\n",
      "three : 1\n",
      "forms : 1\n",
      "structured : 1\n",
      "unstructured : 1\n",
      "semi-structured : 1\n"
     ]
    }
   ],
   "source": [
    "for key in d:\n",
    "    print(key,\":\",d[key])"
   ]
  },
  {
   "cell_type": "code",
   "execution_count": null,
   "metadata": {},
   "outputs": [],
   "source": []
  },
  {
   "cell_type": "code",
   "execution_count": null,
   "metadata": {},
   "outputs": [],
   "source": []
  }
 ],
 "metadata": {
  "kernelspec": {
   "display_name": "Python 3",
   "language": "python",
   "name": "python3"
  },
  "language_info": {
   "codemirror_mode": {
    "name": "ipython",
    "version": 3
   },
   "file_extension": ".py",
   "mimetype": "text/x-python",
   "name": "python",
   "nbconvert_exporter": "python",
   "pygments_lexer": "ipython3",
   "version": "3.7.4"
  }
 },
 "nbformat": 4,
 "nbformat_minor": 2
}
